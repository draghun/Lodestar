{
 "cells": [
  {
   "cell_type": "code",
   "execution_count": 1,
   "metadata": {},
   "outputs": [
    {
     "name": "stdout",
     "output_type": "stream",
     "text": [
      "{'id': '150', 'label': 'compute-covariance-matrix', 'method': 'compute_covariance_matrix'}\n",
      "{'id': '36', 'label': 'word-to-vec', 'method': 'word_to_vec'}\n",
      "{'id': '183', 'label': 'conditional-frequence-distribution', 'method': 'conditional_frequence_distribution'}\n",
      "{'id': '162', 'label': 'initialize-kmeans-cluster', 'method': 'initialize_kmeans_cluster'}\n",
      "{'id': '103', 'label': 'decision-tree-regressor', 'method': 'decision_tree_regressor'}\n",
      "{'id': '90', 'label': 'demo-mat-show', 'method': 'demo_mat_show'}\n",
      "{'id': '43', 'label': 'plot', 'method': 'plot'}\n",
      "{'id': '32', 'label': 'outer-join', 'method': 'outer_join'}\n",
      "{'id': '6', 'label': 'quantitative-bar-plot', 'method': 'quantitative_bar_plot'}\n",
      "{'id': '4', 'label': 'plot-via-limit', 'method': 'plot_via_limit'}\n",
      "{'id': '83', 'label': 'probability-density-plot', 'method': 'probability_density_plot'}\n",
      "{'id': '72', 'label': 'demo-log-space', 'method': 'demo_log_space'}\n",
      "{'id': '56', 'label': 'unique-column-values', 'method': 'unique_column_values'}\n",
      "{'id': '55', 'label': 'extra-trees-classifier', 'method': 'extra_trees_classifier'}\n",
      "{'id': '33', 'label': 'demo-hstack', 'method': 'demo_hstack'}\n",
      "{'id': '27', 'label': 'decision-tree-classifier', 'method': 'decision_tree_classifier'}\n",
      "{'id': '134', 'label': 'compute-percentiles-range', 'method': 'compute_percentiles_range'}\n",
      "{'id': '30', 'label': 'random-forest-classifier', 'method': 'random_forest_classifier'}\n",
      "{'id': '18', 'label': 'eval-model-predictions', 'method': 'eval_model_predictions'}\n",
      "{'id': '113', 'label': 'test-linear-regression', 'method': 'test_linear_regression'}\n",
      "{'id': '10', 'label': 'matrix-norm', 'method': 'matrix_norm'}\n",
      "{'id': 'bootstrap', 'label': 'bootstrap', 'method': 'bootstrap'}\n",
      "{'id': 'ANOVA-Variance-Analysis', 'label': 'ANOVA-Variance-Analysis', 'method': 'anova_variance'}\n",
      "{'id': 'drop-NaN-rows', 'label': 'drop-NaN-rows', 'method': 'drop_rows'}\n",
      "{'id': 'ranksum-test', 'label': 'ranksum-test', 'method': 'rank_sum'}\n",
      "{'id': 'variance', 'label': 'variance', 'method': 'variance'}\n",
      "{'id': 'mean', 'label': 'mean', 'method': 'mean'}\n",
      "{'id': 'predict-test', 'label': 'predict-test', 'method': 'predict_test'}\n",
      "{'id': 'fit-decision-tree', 'label': 'fit-decision-tree', 'method': 'fit_decision_tree'}\n",
      "{'id': 'shuffle-split', 'label': 'shuffle-split', 'method': 'shuffle_split'}\n",
      "{'id': 'numerical-boxplot', 'label': 'numerical-boxplot', 'method': 'num_boxplot'}\n",
      "{'id': 'top5categories', 'label': 'top5categories', 'method': 'top5cat'}\n",
      "{'id': '48', 'label': 'drop-NaN-Columns', 'method': 'drop_cols'}\n",
      "{'id': 'distribution-quantitative-category', 'label': 'distribution-quantitative-category', 'method': 'dist_quant_category'}\n",
      "{'id': 'distribution-two-categories', 'label': 'distribution-two-categories', 'method': 'dist_two_categories'}\n",
      "{'id': 'category-boxplot', 'label': 'category-boxplot', 'method': 'cat_boxplot'}\n",
      "{'id': 'correlation-heatmap', 'label': 'correlation-heatmap', 'method': 'corr_heatmap'}\n",
      "{'id': 'stack-facetgrid', 'label': 'stack-facetgrid', 'method': 'stack_ftgrid'}\n",
      "{'id': 'scatterplot-regression', 'label': 'scatterplot-regression', 'method': 'scatterplot_regression'}\n",
      "{'id': '63', 'label': 'distribution-quantitative', 'method': 'dist_num'}\n",
      "{'id': 'category-count', 'label': 'category-count', 'method': 'cat_count'}\n",
      "{'id': 'corr', 'label': 'correlation', 'method': 'corr'}\n",
      "{'id': '50', 'label': 'group-statistics', 'method': 'des'}\n",
      "{'id': 'firstTen', 'label': 'first10samples', 'method': 'firstTen'}\n"
     ]
    }
   ],
   "source": [
    "import json\n",
    "ddata = {}\n",
    "cdata = {}\n",
    "with open('dictionary.json', 'r') as dfp:\n",
    "    ddata = json.load(dfp)\n",
    "    \n",
    "with open('dictionary_code_map.json', 'r') as cfp:\n",
    "    cdata = json.load(cfp)\n",
    "\n",
    "\n",
    "ddata\n",
    "cdata\n",
    "\n",
    "for c in cdata:\n",
    "    print(c)\n",
    "    for d in ddata:\n",
    "        if(c['id'] == d['id']):\n",
    "            c['user-data'] = d['user-data']\n",
    "            c['metadata'] = d['metadata']\n",
    "            c['description'] = d['description']\n",
    "            \n",
    "with open('dictionary_code_map_tmp.json', 'w+') as cfp:\n",
    "    json.dump(cdata, cfp)"
   ]
  },
  {
   "cell_type": "code",
   "execution_count": null,
   "metadata": {},
   "outputs": [],
   "source": []
  }
 ],
 "metadata": {
  "kernelspec": {
   "display_name": "Python 3",
   "language": "python",
   "name": "python3"
  },
  "language_info": {
   "codemirror_mode": {
    "name": "ipython",
    "version": 3
   },
   "file_extension": ".py",
   "mimetype": "text/x-python",
   "name": "python",
   "nbconvert_exporter": "python",
   "pygments_lexer": "ipython3",
   "version": "3.7.4"
  }
 },
 "nbformat": 4,
 "nbformat_minor": 4
}
